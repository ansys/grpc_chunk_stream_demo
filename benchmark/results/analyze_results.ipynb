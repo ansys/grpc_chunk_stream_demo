{
 "cells": [
  {
   "cell_type": "markdown",
   "metadata": {},
   "source": [
    "#### Imports, Setup and Helpers"
   ]
  },
  {
   "cell_type": "code",
   "execution_count": null,
   "metadata": {},
   "outputs": [],
   "source": [
    "import subprocess\n",
    "\n",
    "import numpy as np\n",
    "import pandas as pd\n",
    "import seaborn as sns\n",
    "import matplotlib.pyplot as plt\n",
    "\n",
    "%matplotlib inline\n",
    "%config InlineBackend.figure_format='svg'\n",
    "\n",
    "sns.set_theme()"
   ]
  },
  {
   "cell_type": "code",
   "execution_count": null,
   "metadata": {},
   "outputs": [],
   "source": [
    "def add_computed_properties(dataframe):\n",
    "    dataframe[\"vec_size_bytes\"] = dataframe[\"vec_size\"] * dataframe[\"type_size\"]\n",
    "    # The reported chunk_size is given in multiples of the data size, even for\n",
    "    # the binary chunking method.\n",
    "    dataframe[\"chunk_size_bytes\"] = dataframe[\"chunk_size\"] * dataframe[\"type_size\"]\n",
    "\n",
    "    dataframe[\"runtime_normalized_seconds\"] = 1e-6 * dataframe[\"runtime\"] / dataframe[\"num_repetitions\"]\n",
    "    dataframe[\"bytes_per_second\"] = dataframe[\"vec_size_bytes\"] / dataframe[\"runtime_normalized_seconds\"]"
   ]
  },
  {
   "cell_type": "markdown",
   "metadata": {},
   "source": [
    "# Unconstrained local network"
   ]
  },
  {
   "cell_type": "markdown",
   "metadata": {},
   "source": [
    "Performance via `localhost`, without any network limiting."
   ]
  },
  {
   "cell_type": "markdown",
   "metadata": {},
   "source": [
    "## Baseline"
   ]
  },
  {
   "cell_type": "markdown",
   "metadata": {},
   "source": [
    "### localhost performance with `iperf`"
   ]
  },
  {
   "cell_type": "markdown",
   "metadata": {},
   "source": [
    "We can use the `iperf` command line utility to get an upper limit for the performance of the `localhost` connection."
   ]
  },
  {
   "cell_type": "code",
   "execution_count": null,
   "metadata": {},
   "outputs": [],
   "source": [
    "try:\n",
    "    # Create a server listening on port 3000. We need to use `subprocess` manually to ensure the Jupyter process isn't blocked.\n",
    "    iperf_server_proc = subprocess.Popen(['iperf', '-s', '-p', '3000'])\n",
    "    # Create an iperf client\n",
    "    !iperf -c localhost -p 3000 -f M\n",
    "finally:\n",
    "    # Shut down the server\n",
    "    iperf_server_proc.terminate()"
   ]
  },
  {
   "cell_type": "markdown",
   "metadata": {},
   "source": [
    "### memcpy performance"
   ]
  },
  {
   "cell_type": "markdown",
   "metadata": {},
   "source": [
    "As a point of comparison, we check the performance of in-process copying."
   ]
  },
  {
   "cell_type": "code",
   "execution_count": null,
   "metadata": {},
   "outputs": [],
   "source": [
    "df_memcpy = pd.read_csv(\"memcpy.csv\")\n",
    "df_memcpy[\"bytes_per_second\"] = (df_memcpy[\"repetitions\"] *  df_memcpy[\"size_bytes\"]) / (df_memcpy[\"duration_nanoseconds\"] * 1e-9)"
   ]
  },
  {
   "cell_type": "code",
   "execution_count": null,
   "metadata": {},
   "outputs": [],
   "source": [
    "fig, ax = plt.subplots(figsize=(12, 8))\n",
    "sns.scatterplot(\n",
    "    x=\"size_bytes\",\n",
    "    y=\"bytes_per_second\",\n",
    "    ax=ax,\n",
    "    data=df_memcpy,\n",
    ")\n",
    "ax.set_xscale(\"log\", base=2)"
   ]
  },
  {
   "cell_type": "markdown",
   "metadata": {},
   "source": [
    "## Loading gRPC test results"
   ]
  },
  {
   "cell_type": "code",
   "execution_count": null,
   "metadata": {},
   "outputs": [],
   "source": [
    "df_sync = pd.read_csv(\"sync.csv\", skipinitialspace=True)\n",
    "df_sync[\"execution_mode\"] = \"sync\""
   ]
  },
  {
   "cell_type": "code",
   "execution_count": null,
   "metadata": {},
   "outputs": [],
   "source": [
    "df_threaded = pd.read_csv(\"threaded_client.csv\", skipinitialspace=True)\n",
    "df_threaded[\"execution_mode\"] = \"threaded\""
   ]
  },
  {
   "cell_type": "code",
   "execution_count": null,
   "metadata": {},
   "outputs": [],
   "source": [
    "df = pd.concat([df_sync, df_threaded])\n",
    "df"
   ]
  },
  {
   "cell_type": "code",
   "execution_count": null,
   "metadata": {},
   "outputs": [],
   "source": [
    "add_computed_properties(df)"
   ]
  },
  {
   "cell_type": "markdown",
   "metadata": {},
   "source": [
    "## Analysis"
   ]
  },
  {
   "cell_type": "markdown",
   "metadata": {},
   "source": [
    "### Chunk sizes"
   ]
  },
  {
   "cell_type": "markdown",
   "metadata": {},
   "source": [
    "For the data analysis, an important point is that the `GetArrayChunked` and `GetArrayBinaryChunked` methods have measurements for different chunk sizes. As such, the average runtimes are not directly comparable. We want to first see how chunk size affects performance."
   ]
  },
  {
   "cell_type": "code",
   "execution_count": null,
   "metadata": {},
   "outputs": [],
   "source": [
    "# Get a dataframe containing only the methods with chunking\n",
    "df_chunked = df[df[\"chunk_size\"] != 0]"
   ]
  },
  {
   "cell_type": "markdown",
   "metadata": {},
   "source": [
    "We show the performance as a function of chunk size, for reasonably large vector sizes."
   ]
  },
  {
   "cell_type": "code",
   "execution_count": null,
   "metadata": {},
   "outputs": [],
   "source": [
    "fig, axes = plt.subplots(2, 2, figsize=(15, 15), sharey=True)\n",
    "for type_id, ax in zip(df_chunked[\"type_id\"].unique(), axes.flatten()):\n",
    "    sns.lineplot(\n",
    "        ax=ax,\n",
    "        x=\"chunk_size_bytes\", \n",
    "        y=\"bytes_per_second\", \n",
    "        hue=\"method_id\", \n",
    "        data=df_chunked[(df_chunked[\"type_id\"] == type_id) & (df_chunked[\"vec_size_bytes\"] >= 1000000) & (df_chunked[\"execution_mode\"] == \"sync\")]\n",
    "    )\n",
    "    ax.set_xscale(\"log\", base=2)\n",
    "    ax.set_title(type_id)"
   ]
  },
  {
   "cell_type": "markdown",
   "metadata": {},
   "source": [
    "### Best performance"
   ]
  },
  {
   "cell_type": "markdown",
   "metadata": {},
   "source": [
    "We now pick the best chunksize for each combination of parameters."
   ]
  },
  {
   "cell_type": "code",
   "execution_count": null,
   "metadata": {},
   "outputs": [],
   "source": [
    "df_by_chunksize = df.groupby([\"vec_size_bytes\", \"type_id\", \"method_id\", \"execution_mode\", \"chunk_size_bytes\"])\n",
    "df_aggregate = df_by_chunksize.agg({\"runtime_normalized_seconds\": np.mean}).reset_index()\n",
    "grouped = df_aggregate.groupby([\"vec_size_bytes\", \"type_id\", \"method_id\", \"execution_mode\"])\n",
    "df_best_chunksize = df_aggregate.loc[grouped[\"runtime_normalized_seconds\"].idxmin()]"
   ]
  },
  {
   "cell_type": "code",
   "execution_count": null,
   "metadata": {},
   "outputs": [],
   "source": [
    "df_best_chunksize[\"bytes_per_second\"] = df_best_chunksize[\"vec_size_bytes\"] / df_best_chunksize[\"runtime_normalized_seconds\"]"
   ]
  },
  {
   "cell_type": "markdown",
   "metadata": {},
   "source": [
    "Performance of the different methods. For visibility, we only show a few data types."
   ]
  },
  {
   "cell_type": "code",
   "execution_count": null,
   "metadata": {},
   "outputs": [],
   "source": [
    "fig, axes = plt.subplots(1, 2, figsize=(18, 6), sharey=True)\n",
    "for execution_mode, ax in zip([\"sync\", \"threaded\"], axes):\n",
    "    sns.lineplot(\n",
    "        x=\"vec_size_bytes\", \n",
    "        y=\"bytes_per_second\", \n",
    "        hue=\"method_id\", \n",
    "        style=\"type_id\",\n",
    "        data=df_best_chunksize[(df_best_chunksize[\"execution_mode\"] == execution_mode) & (df_best_chunksize[\"type_id\"].isin([\"int32\", \"sfixed32\"]))],\n",
    "        ax=ax\n",
    "    )\n",
    "    ax.set_title(f\"execution_mode={execution_mode}\")\n",
    "    ax.set_xscale(\"log\", base=2)"
   ]
  },
  {
   "cell_type": "markdown",
   "metadata": {},
   "source": [
    "Best performing chunk size for the `sfixed64` data type in `sync` operation."
   ]
  },
  {
   "cell_type": "code",
   "execution_count": null,
   "metadata": {},
   "outputs": [],
   "source": [
    "fig, ax = plt.subplots(figsize=(12, 10))\n",
    "sns.lineplot(\n",
    "    x=\"vec_size_bytes\", \n",
    "    y=\"chunk_size_bytes\", \n",
    "    hue=\"method_id\", \n",
    "    ax=ax,\n",
    "    data=df_best_chunksize[(df_best_chunksize[\"chunk_size_bytes\"] != 0) & (df_best_chunksize[\"type_id\"] == \"sfixed64\") & (df_best_chunksize[\"execution_mode\"] == \"sync\")]\n",
    ")\n",
    "ax.set_xscale(\"log\", base=2)\n",
    "ax.set_yscale(\"log\", base=2)"
   ]
  },
  {
   "cell_type": "markdown",
   "metadata": {},
   "source": [
    "# Constrained network"
   ]
  },
  {
   "cell_type": "markdown",
   "metadata": {},
   "source": [
    "## Loading results"
   ]
  },
  {
   "cell_type": "code",
   "execution_count": null,
   "metadata": {},
   "outputs": [],
   "source": [
    "df_bandwidth_constrained = pd.read_csv(\"rate_100mbit.csv\", skipinitialspace=True)\n",
    "add_computed_properties(df_bandwidth_constrained)"
   ]
  },
  {
   "cell_type": "code",
   "execution_count": null,
   "metadata": {},
   "outputs": [],
   "source": [
    "df_latency_constrained = pd.read_csv(\"delay_1ms.csv\", skipinitialspace=True)\n",
    "add_computed_properties(df_latency_constrained)"
   ]
  },
  {
   "cell_type": "markdown",
   "metadata": {},
   "source": [
    "## Analysis"
   ]
  },
  {
   "cell_type": "markdown",
   "metadata": {},
   "source": [
    "### Bandwidth-constrained"
   ]
  },
  {
   "cell_type": "code",
   "execution_count": null,
   "metadata": {},
   "outputs": [],
   "source": [
    "df_bandwidth_constrained.keys()"
   ]
  },
  {
   "cell_type": "code",
   "execution_count": null,
   "metadata": {},
   "outputs": [],
   "source": [
    "# 100 mbit constraint\n",
    "bw_constraint = 100 * 1e6 / 8\n",
    "fig, axes = plt.subplots(1, 3, figsize=(18, 8))\n",
    "for ax, item_generator in zip(axes, df_bandwidth_constrained[\"item_generator_id\"].unique()):\n",
    "    ax.axhline(bw_constraint, color='k', linestyle='--')\n",
    "    sns.lineplot(\n",
    "        x=\"vec_size_bytes\", \n",
    "        y=\"bytes_per_second\", \n",
    "        hue=\"method_id\", \n",
    "        style=\"type_id\",\n",
    "        data=df_bandwidth_constrained[(df_bandwidth_constrained[\"type_id\"].isin([\"int32\", \"sfixed32\"])) & (df_bandwidth_constrained[\"item_generator_id\"] == item_generator)],\n",
    "        ax=ax\n",
    "    )\n",
    "    ax.set_xscale(\"log\", base=2)\n",
    "    ax.set_title(item_generator)"
   ]
  },
  {
   "cell_type": "markdown",
   "metadata": {},
   "source": [
    "### Latency-constrained"
   ]
  },
  {
   "cell_type": "code",
   "execution_count": null,
   "metadata": {},
   "outputs": [],
   "source": [
    "fig, ax = plt.subplots(figsize=(12, 8))\n",
    "sns.lineplot(\n",
    "    x=\"vec_size_bytes\", \n",
    "    y=\"bytes_per_second\", \n",
    "    hue=\"method_id\", \n",
    "    style=\"type_id\",\n",
    "    data=df_latency_constrained,\n",
    "    ax=ax\n",
    ")\n",
    "ax.set_xscale(\"log\", base=2)"
   ]
  },
  {
   "cell_type": "code",
   "execution_count": null,
   "metadata": {},
   "outputs": [],
   "source": [
    "fig, ax = plt.subplots(figsize=(12, 8))\n",
    "latency_constraint = 1e-3\n",
    "ax.axhline(latency_constraint, color='k', linestyle='--')\n",
    "sns.lineplot(\n",
    "    x=\"vec_size_bytes\",\n",
    "    y=\"runtime_normalized_seconds\", \n",
    "    hue=\"method_id\", \n",
    "    style=\"type_id\",\n",
    "    data=df_latency_constrained,\n",
    "    ax=ax\n",
    ")\n",
    "ax.set_ylim(0, 10 * latency_constraint)\n",
    "ax.set_xscale(\"log\", base=2)"
   ]
  },
  {
   "cell_type": "code",
   "execution_count": null,
   "metadata": {},
   "outputs": [],
   "source": []
  }
 ],
 "metadata": {
  "interpreter": {
   "hash": "347441d6dfaae1d20d784fb3228f4a7d3fec0bd3ac1a9dd9a4afef899ced0013"
  },
  "kernelspec": {
   "display_name": "Python 3.9.7 64-bit ('venv': venv)",
   "language": "python",
   "name": "python3"
  },
  "language_info": {
   "codemirror_mode": {
    "name": "ipython",
    "version": 3
   },
   "file_extension": ".py",
   "mimetype": "text/x-python",
   "name": "python",
   "nbconvert_exporter": "python",
   "pygments_lexer": "ipython3",
   "version": "3.9.7"
  }
 },
 "nbformat": 4,
 "nbformat_minor": 2
}
