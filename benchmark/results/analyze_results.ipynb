{
 "cells": [
  {
   "cell_type": "code",
   "execution_count": null,
   "metadata": {},
   "outputs": [],
   "source": [
    "import pandas as pd\n",
    "import seaborn as sns\n",
    "import matplotlib.pyplot as plt"
   ]
  },
  {
   "cell_type": "code",
   "execution_count": null,
   "metadata": {},
   "outputs": [],
   "source": [
    "df = pd.read_csv(\"sync.csv\", skipinitialspace=True)\n",
    "df"
   ]
  },
  {
   "cell_type": "code",
   "execution_count": null,
   "metadata": {},
   "outputs": [],
   "source": [
    "df[\"vec_size_bytes\"] = df[\"vec_size\"] * df[\"type_size\"]"
   ]
  },
  {
   "cell_type": "code",
   "execution_count": null,
   "metadata": {},
   "outputs": [],
   "source": [
    "df[\"runtime_normalized_seconds\"] = df[\"runtime\"] / (df[\"num_repetitions\"] * 1e6)"
   ]
  },
  {
   "cell_type": "code",
   "execution_count": null,
   "metadata": {},
   "outputs": [],
   "source": [
    "df[\"bytes_per_second\"] = df[\"vec_size_bytes\"] / df[\"runtime_normalized_seconds\"]"
   ]
  },
  {
   "cell_type": "code",
   "execution_count": null,
   "metadata": {},
   "outputs": [],
   "source": [
    "sns.set(rc={\"figure.figsize\":(12, 10)})\n",
    "sns.lineplot(\n",
    "    x=\"vec_size_bytes\", \n",
    "    y=\"bytes_per_second\", \n",
    "    hue=\"method_id\", \n",
    "    #style=\"type_id\"\n",
    "    data=df[df[\"type_id\"] == \"sfixed32\"]\n",
    ")"
   ]
  },
  {
   "cell_type": "code",
   "execution_count": null,
   "metadata": {},
   "outputs": [],
   "source": [
    "max(df_chunked[\"vec_size\"].unique()"
   ]
  },
  {
   "cell_type": "code",
   "execution_count": null,
   "metadata": {},
   "outputs": [],
   "source": [
    "df_chunked = df[df[\"chunk_size\"] != 0]"
   ]
  },
  {
   "cell_type": "code",
   "execution_count": null,
   "metadata": {},
   "outputs": [],
   "source": [
    "sns.set(rc={\"figure.figsize\":(12, 10)})\n",
    "sns.lineplot(\n",
    "    x=\"chunk_size\", \n",
    "    y=\"bytes_per_second\", \n",
    "    hue=\"method_id\", \n",
    "    #style=\"type_id\"\n",
    "    data=df_chunked[(df_chunked[\"type_id\"] == \"sfixed32\") & (df_chunked[\"vec_size\"] == 1048576)]\n",
    ")"
   ]
  },
  {
   "cell_type": "code",
   "execution_count": null,
   "metadata": {},
   "outputs": [],
   "source": [
    "sns.set(rc={\"figure.figsize\":(12, 10)})\n",
    "sns.lineplot(\n",
    "    x=\"chunk_size\", \n",
    "    y=\"bytes_per_second\", \n",
    "    hue=\"method_id\", \n",
    "    #style=\"type_id\"\n",
    "    data=df_chunked[(df_chunked[\"type_id\"] == \"float\") & (df_chunked[\"vec_size\"] == 1048576)]\n",
    ")"
   ]
  },
  {
   "cell_type": "code",
   "execution_count": null,
   "metadata": {},
   "outputs": [],
   "source": []
  }
 ],
 "metadata": {
  "interpreter": {
   "hash": "347441d6dfaae1d20d784fb3228f4a7d3fec0bd3ac1a9dd9a4afef899ced0013"
  },
  "kernelspec": {
   "display_name": "Python 3.9.7 64-bit ('venv': venv)",
   "language": "python",
   "name": "python3"
  },
  "language_info": {
   "codemirror_mode": {
    "name": "ipython",
    "version": 3
   },
   "file_extension": ".py",
   "mimetype": "text/x-python",
   "name": "python",
   "nbconvert_exporter": "python",
   "pygments_lexer": "ipython3",
   "version": "3.9.7"
  }
 },
 "nbformat": 4,
 "nbformat_minor": 2
}
